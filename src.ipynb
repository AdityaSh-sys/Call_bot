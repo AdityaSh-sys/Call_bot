{
 "cells": [
  {
   "cell_type": "code",
   "execution_count": 15,
   "metadata": {},
   "outputs": [],
   "source": [
    "import os\n",
    "import json\n",
    "import base64\n",
    "import asyncio\n",
    "import websockets\n",
    "from fastapi import FastAPI, WebSocket, Request\n",
    "from fastapi.responses import JSONResponse\n",
    "from fastapi.websockets import WebSocketDisconnect\n",
    "from twilio.twiml.voice_response import VoiceResponse, Connect, Say, Stream\n",
    "from dotenv import load_dotenv"
   ]
  },
  {
   "cell_type": "code",
   "execution_count": 16,
   "metadata": {},
   "outputs": [
    {
     "data": {
      "text/plain": [
       "True"
      ]
     },
     "execution_count": 16,
     "metadata": {},
     "output_type": "execute_result"
    }
   ],
   "source": [
    "load_dotenv()"
   ]
  },
  {
   "cell_type": "code",
   "execution_count": 17,
   "metadata": {},
   "outputs": [],
   "source": [
    "OPENAI_API_KEY = os.getenv(\"OPENAI_API_KEY\")\n",
    "PORT = int(os.getenv(\"PORT\", 5050))\n",
    "SYSTEM_MESSAGE = (\n",
    "    \"You are Rohan, a senior software engineer and you love to help people with their coding problems. \"\n",
    "    \"Anything the people ask you offer them factual information and help them with their coding problems. \"\n",
    "    \"Always be polite and helpful, and never be rude or offensive.\"\n",
    "    \"if you want to end the conversation, just say 'goodbye' or 'bye'.\"\n",
    "    \"initiate the conversation by saying 'hello' and introduce yourself with how you can help.\"\n",
    ")"
   ]
  },
  {
   "cell_type": "code",
   "execution_count": 18,
   "metadata": {},
   "outputs": [],
   "source": [
    "OICE = 'alloy'\n",
    "LOG_EVENT_TYPES = [\n",
    "    'response.content.done', 'rate_limits.updated', 'response.done',\n",
    "    'input_audio_buffer.committed', 'input_audio_buffer.speech_stopped',\n",
    "    'input_audio_buffer.speech_started', 'session.created'\n",
    "]"
   ]
  },
  {
   "cell_type": "code",
   "execution_count": 19,
   "metadata": {},
   "outputs": [],
   "source": [
    "app = FastAPI()\n",
    "if not OPENAI_API_KEY:\n",
    "    raise ValueError('Missing the OpenAI API key. Please set it in the .env file.')"
   ]
  },
  {
   "cell_type": "code",
   "execution_count": 20,
   "metadata": {},
   "outputs": [],
   "source": [
    "@app.get(\"/\", response_class=JSONResponse)\n",
    "async def index_page():\n",
    "    return {\"message\": \"Twilio Media Stream Server is running!\"}\n",
    "@app.api_route(\"/incoming-call\", methods=[\"GET\", \"POST\"])\n",
    "async def handle_incoming_call(request: Request):\n",
    "    \"\"\"Handle incoming call and return TwiML response to connect to Media Stream.\"\"\"\n",
    "    response = VoiceResponse()\n",
    "    # <Say> punctuation to improve text-to-speech flow\n",
    "    response.say(\"Please wait while we connect your call, one moment.\")\n",
    "    response.pause(length=1)\n",
    "    response.say(\"O.K. you can start talking!\")\n",
    "    host = request.url.hostname\n",
    "    connect = Connect()\n",
    "    connect.stream(url=f'wss://{host}/media-stream')\n",
    "    response.append(connect)\n",
    "    return HTMLResponse(content=str(response), media_type=\"application/xml\")"
   ]
  },
  {
   "cell_type": "code",
   "execution_count": 21,
   "metadata": {},
   "outputs": [],
   "source": [
    "@app.websocket(\"/media-stream\")\n",
    "async def handle_media_stream(websocket: WebSocket):\n",
    "    \"\"\"Handle WebSocket connections between Twilio and OpenAI.\"\"\"\n",
    "    print(\"Client connected\")\n",
    "    await websocket.accept()\n",
    "    async with websockets.connect(\n",
    "        'wss://api.openai.com/v1/realtime?model=gpt-4o-realtime-preview-2024-10-01',\n",
    "        extra_headers={\n",
    "            \"Authorization\": f\"Bearer {OPENAI_API_KEY}\",\n",
    "            \"OpenAI-Beta\": \"realtime=v1\"\n",
    "        }\n",
    "    ) as openai_ws:\n",
    "        await send_session_update(openai_ws)\n",
    "        stream_sid = None\n",
    "        async def receive_from_twilio():\n",
    "            \"\"\"Receive audio data from Twilio and send it to the OpenAI Realtime API.\"\"\"\n",
    "            nonlocal stream_sid\n",
    "            try:\n",
    "                async for message in websocket.iter_text():\n",
    "                    data = json.loads(message)\n",
    "                    if data['event'] == 'media' and openai_ws.open:\n",
    "                        audio_append = {\n",
    "                            \"type\": \"input_audio_buffer.append\",\n",
    "                            \"audio\": data['media']['payload']\n",
    "                        }\n",
    "                        await openai_ws.send(json.dumps(audio_append))\n",
    "                    elif data['event'] == 'start':\n",
    "                        stream_sid = data['start']['streamSid']\n",
    "                        print(f\"Incoming stream has started {stream_sid}\")\n",
    "            except WebSocketDisconnect:\n",
    "                print(\"Client disconnected.\")\n",
    "                if openai_ws.open:\n",
    "                    await openai_ws.close()\n",
    "        async def send_to_twilio():\n",
    "            \"\"\"Receive events from the OpenAI Realtime API, send audio back to Twilio.\"\"\"\n",
    "            nonlocal stream_sid\n",
    "            try:\n",
    "                async for openai_message in openai_ws:\n",
    "                    response = json.loads(openai_message)\n",
    "                    if response['type'] in LOG_EVENT_TYPES:\n",
    "                        print(f\"Received event: {response['type']}\", response)\n",
    "                    if response['type'] == 'session.updated':\n",
    "                        print(\"Session updated successfully:\", response)\n",
    "                    if response['type'] == 'response.audio.delta' and response.get('delta'):\n",
    "                        # Audio from OpenAI\n",
    "                        try:\n",
    "                            audio_payload = base64.b64encode(base64.b64decode(response['delta'])).decode('utf-8')\n",
    "                            audio_delta = {\n",
    "                                \"event\": \"media\",\n",
    "                                \"streamSid\": stream_sid,\n",
    "                                \"media\": {\n",
    "                                    \"payload\": audio_payload\n",
    "                                }\n",
    "                            }\n",
    "                            await websocket.send_json(audio_delta)\n",
    "                        except Exception as e:\n",
    "                            print(f\"Error processing audio data: {e}\")\n",
    "            except Exception as e:\n",
    "                print(f\"Error in send_to_twilio: {e}\")\n",
    "        await asyncio.gather(receive_from_twilio(), send_to_twilio())"
   ]
  },
  {
   "cell_type": "code",
   "execution_count": 22,
   "metadata": {},
   "outputs": [],
   "source": [
    "async def send_session_update(openai_ws):\n",
    "    \"\"\"Send session update to OpenAI WebSocket.\"\"\"\n",
    "    session_update = {\n",
    "        \"type\": \"session.update\",\n",
    "        \"session\": {\n",
    "            \"turn_detection\": {\"type\": \"server_vad\"},\n",
    "            \"input_audio_format\": \"g711_ulaw\",\n",
    "            \"output_audio_format\": \"g711_ulaw\",\n",
    "            \"voice\": VOICE,\n",
    "            \"instructions\": SYSTEM_MESSAGE,\n",
    "            \"modalities\": [\"text\", \"audio\"],\n",
    "            \"temperature\": 0.8,\n",
    "        }\n",
    "    }\n",
    "    print('Sending session update:', json.dumps(session_update))\n",
    "    await openai_ws.send(json.dumps(session_update))"
   ]
  },
  {
   "cell_type": "code",
   "execution_count": 24,
   "metadata": {},
   "outputs": [
    {
     "ename": "RuntimeError",
     "evalue": "asyncio.run() cannot be called from a running event loop",
     "output_type": "error",
     "traceback": [
      "\u001b[31m---------------------------------------------------------------------------\u001b[39m",
      "\u001b[31mRuntimeError\u001b[39m                              Traceback (most recent call last)",
      "\u001b[36mCell\u001b[39m\u001b[36m \u001b[39m\u001b[32mIn[24]\u001b[39m\u001b[32m, line 3\u001b[39m\n\u001b[32m      1\u001b[39m \u001b[38;5;28;01mif\u001b[39;00m \u001b[34m__name__\u001b[39m == \u001b[33m\"\u001b[39m\u001b[33m__main__\u001b[39m\u001b[33m\"\u001b[39m:\n\u001b[32m      2\u001b[39m     \u001b[38;5;28;01mimport\u001b[39;00m\u001b[38;5;250m \u001b[39m\u001b[34;01muvicorn\u001b[39;00m\n\u001b[32m----> \u001b[39m\u001b[32m3\u001b[39m     \u001b[43muvicorn\u001b[49m\u001b[43m.\u001b[49m\u001b[43mrun\u001b[49m\u001b[43m(\u001b[49m\u001b[43mapp\u001b[49m\u001b[43m,\u001b[49m\u001b[43m \u001b[49m\u001b[43mhost\u001b[49m\u001b[43m=\u001b[49m\u001b[33;43m\"\u001b[39;49m\u001b[33;43m0.0.0.0\u001b[39;49m\u001b[33;43m\"\u001b[39;49m\u001b[43m,\u001b[49m\u001b[43m \u001b[49m\u001b[43mport\u001b[49m\u001b[43m=\u001b[49m\u001b[32;43m80\u001b[39;49m\u001b[43m)\u001b[49m\n",
      "\u001b[36mFile \u001b[39m\u001b[32m~/Project_0/myenv/lib/python3.12/site-packages/uvicorn/main.py:579\u001b[39m, in \u001b[36mrun\u001b[39m\u001b[34m(app, host, port, uds, fd, loop, http, ws, ws_max_size, ws_max_queue, ws_ping_interval, ws_ping_timeout, ws_per_message_deflate, lifespan, interface, reload, reload_dirs, reload_includes, reload_excludes, reload_delay, workers, env_file, log_config, log_level, access_log, proxy_headers, server_header, date_header, forwarded_allow_ips, root_path, limit_concurrency, backlog, limit_max_requests, timeout_keep_alive, timeout_graceful_shutdown, ssl_keyfile, ssl_certfile, ssl_keyfile_password, ssl_version, ssl_cert_reqs, ssl_ca_certs, ssl_ciphers, headers, use_colors, app_dir, factory, h11_max_incomplete_event_size)\u001b[39m\n\u001b[32m    577\u001b[39m         Multiprocess(config, target=server.run, sockets=[sock]).run()\n\u001b[32m    578\u001b[39m     \u001b[38;5;28;01melse\u001b[39;00m:\n\u001b[32m--> \u001b[39m\u001b[32m579\u001b[39m         \u001b[43mserver\u001b[49m\u001b[43m.\u001b[49m\u001b[43mrun\u001b[49m\u001b[43m(\u001b[49m\u001b[43m)\u001b[49m\n\u001b[32m    580\u001b[39m \u001b[38;5;28;01mexcept\u001b[39;00m \u001b[38;5;167;01mKeyboardInterrupt\u001b[39;00m:\n\u001b[32m    581\u001b[39m     \u001b[38;5;28;01mpass\u001b[39;00m  \u001b[38;5;66;03m# pragma: full coverage\u001b[39;00m\n",
      "\u001b[36mFile \u001b[39m\u001b[32m~/Project_0/myenv/lib/python3.12/site-packages/uvicorn/server.py:66\u001b[39m, in \u001b[36mServer.run\u001b[39m\u001b[34m(self, sockets)\u001b[39m\n\u001b[32m     64\u001b[39m \u001b[38;5;28;01mdef\u001b[39;00m\u001b[38;5;250m \u001b[39m\u001b[34mrun\u001b[39m(\u001b[38;5;28mself\u001b[39m, sockets: \u001b[38;5;28mlist\u001b[39m[socket.socket] | \u001b[38;5;28;01mNone\u001b[39;00m = \u001b[38;5;28;01mNone\u001b[39;00m) -> \u001b[38;5;28;01mNone\u001b[39;00m:\n\u001b[32m     65\u001b[39m     \u001b[38;5;28mself\u001b[39m.config.setup_event_loop()\n\u001b[32m---> \u001b[39m\u001b[32m66\u001b[39m     \u001b[38;5;28;01mreturn\u001b[39;00m \u001b[43masyncio\u001b[49m\u001b[43m.\u001b[49m\u001b[43mrun\u001b[49m\u001b[43m(\u001b[49m\u001b[38;5;28;43mself\u001b[39;49m\u001b[43m.\u001b[49m\u001b[43mserve\u001b[49m\u001b[43m(\u001b[49m\u001b[43msockets\u001b[49m\u001b[43m=\u001b[49m\u001b[43msockets\u001b[49m\u001b[43m)\u001b[49m\u001b[43m)\u001b[49m\n",
      "\u001b[36mFile \u001b[39m\u001b[32m/usr/lib/python3.12/asyncio/runners.py:190\u001b[39m, in \u001b[36mrun\u001b[39m\u001b[34m(main, debug, loop_factory)\u001b[39m\n\u001b[32m    161\u001b[39m \u001b[38;5;250m\u001b[39m\u001b[33;03m\"\"\"Execute the coroutine and return the result.\u001b[39;00m\n\u001b[32m    162\u001b[39m \n\u001b[32m    163\u001b[39m \u001b[33;03mThis function runs the passed coroutine, taking care of\u001b[39;00m\n\u001b[32m   (...)\u001b[39m\u001b[32m    186\u001b[39m \u001b[33;03m    asyncio.run(main())\u001b[39;00m\n\u001b[32m    187\u001b[39m \u001b[33;03m\"\"\"\u001b[39;00m\n\u001b[32m    188\u001b[39m \u001b[38;5;28;01mif\u001b[39;00m events._get_running_loop() \u001b[38;5;129;01mis\u001b[39;00m \u001b[38;5;129;01mnot\u001b[39;00m \u001b[38;5;28;01mNone\u001b[39;00m:\n\u001b[32m    189\u001b[39m     \u001b[38;5;66;03m# fail fast with short traceback\u001b[39;00m\n\u001b[32m--> \u001b[39m\u001b[32m190\u001b[39m     \u001b[38;5;28;01mraise\u001b[39;00m \u001b[38;5;167;01mRuntimeError\u001b[39;00m(\n\u001b[32m    191\u001b[39m         \u001b[33m\"\u001b[39m\u001b[33masyncio.run() cannot be called from a running event loop\u001b[39m\u001b[33m\"\u001b[39m)\n\u001b[32m    193\u001b[39m \u001b[38;5;28;01mwith\u001b[39;00m Runner(debug=debug, loop_factory=loop_factory) \u001b[38;5;28;01mas\u001b[39;00m runner:\n\u001b[32m    194\u001b[39m     \u001b[38;5;28;01mreturn\u001b[39;00m runner.run(main)\n",
      "\u001b[31mRuntimeError\u001b[39m: asyncio.run() cannot be called from a running event loop"
     ]
    }
   ],
   "source": [
    "if __name__ == \"__main__\":\n",
    "    import uvicorn\n",
    "    uvicorn.run(app, host=\"0.0.0.0\", port=80)\n"
   ]
  },
  {
   "cell_type": "code",
   "execution_count": null,
   "metadata": {},
   "outputs": [],
   "source": []
  }
 ],
 "metadata": {
  "kernelspec": {
   "display_name": "myenv",
   "language": "python",
   "name": "python3"
  },
  "language_info": {
   "codemirror_mode": {
    "name": "ipython",
    "version": 3
   },
   "file_extension": ".py",
   "mimetype": "text/x-python",
   "name": "python",
   "nbconvert_exporter": "python",
   "pygments_lexer": "ipython3",
   "version": "3.12.3"
  }
 },
 "nbformat": 4,
 "nbformat_minor": 2
}
